{
 "cells": [
  {
   "cell_type": "code",
   "execution_count": null,
   "metadata": {
    "collapsed": true
   },
   "outputs": [],
   "source": [
    "print (\"Fitting the classifier to the training set\")\n",
    "t0 = time()\n",
    "\n",
    "\n",
    "#TODO : fit a classifier, \n",
    "\n",
    "\n",
    "\n",
    "print (\"Predicting the people names on the testing set\")\n",
    "t0 = time()\n",
    "\n",
    "# TODO : predict labels for the X_test images\n",
    "\n",
    "print (\"done in %0.3fs\" % (time() - t0))\n",
    "print (\"Chance level : %s\" % max(np.mean(y), 1. - np.mean(y)))\n",
    "print (\"Accuracy : %s\" % clf.score(X_test, y_test))"
   ]
  }
 ],
 "metadata": {
  "kernelspec": {
   "display_name": "Python 3",
   "language": "python",
   "name": "python3"
  },
  "language_info": {
   "codemirror_mode": {
    "name": "ipython",
    "version": 3
   },
   "file_extension": ".py",
   "mimetype": "text/x-python",
   "name": "python",
   "nbconvert_exporter": "python",
   "pygments_lexer": "ipython3",
   "version": "3.6.4"
  }
 },
 "nbformat": 4,
 "nbformat_minor": 2
}
